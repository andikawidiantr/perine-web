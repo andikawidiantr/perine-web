{
 "cells": [
  {
   "cell_type": "code",
   "execution_count": 2,
   "id": "59e6a047",
   "metadata": {},
   "outputs": [],
   "source": [
    "import pandas as pd"
   ]
  },
  {
   "cell_type": "code",
   "execution_count": 15,
   "id": "2df4cfe9",
   "metadata": {},
   "outputs": [],
   "source": [
    "df = pd.read_csv(r\"C:\\Users\\BudhiArta\\tweets_bersih_translated_label.csv\")"
   ]
  },
  {
   "cell_type": "code",
   "execution_count": 16,
   "id": "7a798730",
   "metadata": {},
   "outputs": [
    {
     "data": {
      "text/html": [
       "<div>\n",
       "<style scoped>\n",
       "    .dataframe tbody tr th:only-of-type {\n",
       "        vertical-align: middle;\n",
       "    }\n",
       "\n",
       "    .dataframe tbody tr th {\n",
       "        vertical-align: top;\n",
       "    }\n",
       "\n",
       "    .dataframe thead th {\n",
       "        text-align: right;\n",
       "    }\n",
       "</style>\n",
       "<table border=\"1\" class=\"dataframe\">\n",
       "  <thead>\n",
       "    <tr style=\"text-align: right;\">\n",
       "      <th></th>\n",
       "      <th>_id</th>\n",
       "      <th>content_cleaned</th>\n",
       "      <th>date</th>\n",
       "      <th>label</th>\n",
       "      <th>label_text</th>\n",
       "      <th>translated</th>\n",
       "    </tr>\n",
       "  </thead>\n",
       "  <tbody>\n",
       "    <tr>\n",
       "      <th>0</th>\n",
       "      <td>61ad9fc5c0aafa396cd37f0b</td>\n",
       "      <td>hawa</td>\n",
       "      <td>2021-11-17T20:47:42+00:00</td>\n",
       "      <td>0.00</td>\n",
       "      <td>neutral</td>\n",
       "      <td>weather</td>\n",
       "    </tr>\n",
       "    <tr>\n",
       "      <th>1</th>\n",
       "      <td>61ad9fc5c0aafa396cd37f0c</td>\n",
       "      <td>true</td>\n",
       "      <td>2021-11-22T11:33:21+00:00</td>\n",
       "      <td>0.35</td>\n",
       "      <td>pos</td>\n",
       "      <td>true</td>\n",
       "    </tr>\n",
       "    <tr>\n",
       "      <th>2</th>\n",
       "      <td>61ad9fc5c0aafa396cd37f0d</td>\n",
       "      <td>diana</td>\n",
       "      <td>2021-11-20T14:56:23+00:00</td>\n",
       "      <td>0.00</td>\n",
       "      <td>neutral</td>\n",
       "      <td>diana</td>\n",
       "    </tr>\n",
       "    <tr>\n",
       "      <th>3</th>\n",
       "      <td>61ad9fc5c0aafa396cd37f0e</td>\n",
       "      <td>nanana</td>\n",
       "      <td>2021-11-20T13:58:42+00:00</td>\n",
       "      <td>0.00</td>\n",
       "      <td>neutral</td>\n",
       "      <td>nanana</td>\n",
       "    </tr>\n",
       "    <tr>\n",
       "      <th>4</th>\n",
       "      <td>61ad9fc5c0aafa396cd37f0f</td>\n",
       "      <td>panjang</td>\n",
       "      <td>2021-11-20T04:44:24+00:00</td>\n",
       "      <td>-0.05</td>\n",
       "      <td>neg</td>\n",
       "      <td>long</td>\n",
       "    </tr>\n",
       "  </tbody>\n",
       "</table>\n",
       "</div>"
      ],
      "text/plain": [
       "                        _id content_cleaned                       date  label  \\\n",
       "0  61ad9fc5c0aafa396cd37f0b            hawa  2021-11-17T20:47:42+00:00   0.00   \n",
       "1  61ad9fc5c0aafa396cd37f0c            true  2021-11-22T11:33:21+00:00   0.35   \n",
       "2  61ad9fc5c0aafa396cd37f0d           diana  2021-11-20T14:56:23+00:00   0.00   \n",
       "3  61ad9fc5c0aafa396cd37f0e          nanana  2021-11-20T13:58:42+00:00   0.00   \n",
       "4  61ad9fc5c0aafa396cd37f0f         panjang  2021-11-20T04:44:24+00:00  -0.05   \n",
       "\n",
       "  label_text translated  \n",
       "0    neutral    weather  \n",
       "1        pos       true  \n",
       "2    neutral      diana  \n",
       "3    neutral     nanana  \n",
       "4        neg       long  "
      ]
     },
     "execution_count": 16,
     "metadata": {},
     "output_type": "execute_result"
    }
   ],
   "source": [
    "df.head()"
   ]
  },
  {
   "cell_type": "code",
   "execution_count": 21,
   "id": "c6b774ac",
   "metadata": {},
   "outputs": [],
   "source": [
    "df['date'] = df['date'].str[:10]"
   ]
  },
  {
   "cell_type": "code",
   "execution_count": 22,
   "id": "0d337a64",
   "metadata": {
    "scrolled": true
   },
   "outputs": [
    {
     "data": {
      "text/html": [
       "<div>\n",
       "<style scoped>\n",
       "    .dataframe tbody tr th:only-of-type {\n",
       "        vertical-align: middle;\n",
       "    }\n",
       "\n",
       "    .dataframe tbody tr th {\n",
       "        vertical-align: top;\n",
       "    }\n",
       "\n",
       "    .dataframe thead th {\n",
       "        text-align: right;\n",
       "    }\n",
       "</style>\n",
       "<table border=\"1\" class=\"dataframe\">\n",
       "  <thead>\n",
       "    <tr style=\"text-align: right;\">\n",
       "      <th></th>\n",
       "      <th>_id</th>\n",
       "      <th>content_cleaned</th>\n",
       "      <th>date</th>\n",
       "      <th>label</th>\n",
       "      <th>label_text</th>\n",
       "      <th>translated</th>\n",
       "    </tr>\n",
       "  </thead>\n",
       "  <tbody>\n",
       "    <tr>\n",
       "      <th>0</th>\n",
       "      <td>61ad9fc5c0aafa396cd37f0b</td>\n",
       "      <td>hawa</td>\n",
       "      <td>2021-11-17</td>\n",
       "      <td>0.00</td>\n",
       "      <td>neutral</td>\n",
       "      <td>weather</td>\n",
       "    </tr>\n",
       "    <tr>\n",
       "      <th>1</th>\n",
       "      <td>61ad9fc5c0aafa396cd37f0c</td>\n",
       "      <td>true</td>\n",
       "      <td>2021-11-22</td>\n",
       "      <td>0.35</td>\n",
       "      <td>pos</td>\n",
       "      <td>true</td>\n",
       "    </tr>\n",
       "    <tr>\n",
       "      <th>2</th>\n",
       "      <td>61ad9fc5c0aafa396cd37f0d</td>\n",
       "      <td>diana</td>\n",
       "      <td>2021-11-20</td>\n",
       "      <td>0.00</td>\n",
       "      <td>neutral</td>\n",
       "      <td>diana</td>\n",
       "    </tr>\n",
       "    <tr>\n",
       "      <th>3</th>\n",
       "      <td>61ad9fc5c0aafa396cd37f0e</td>\n",
       "      <td>nanana</td>\n",
       "      <td>2021-11-20</td>\n",
       "      <td>0.00</td>\n",
       "      <td>neutral</td>\n",
       "      <td>nanana</td>\n",
       "    </tr>\n",
       "    <tr>\n",
       "      <th>4</th>\n",
       "      <td>61ad9fc5c0aafa396cd37f0f</td>\n",
       "      <td>panjang</td>\n",
       "      <td>2021-11-20</td>\n",
       "      <td>-0.05</td>\n",
       "      <td>neg</td>\n",
       "      <td>long</td>\n",
       "    </tr>\n",
       "  </tbody>\n",
       "</table>\n",
       "</div>"
      ],
      "text/plain": [
       "                        _id content_cleaned        date  label label_text  \\\n",
       "0  61ad9fc5c0aafa396cd37f0b            hawa  2021-11-17   0.00    neutral   \n",
       "1  61ad9fc5c0aafa396cd37f0c            true  2021-11-22   0.35        pos   \n",
       "2  61ad9fc5c0aafa396cd37f0d           diana  2021-11-20   0.00    neutral   \n",
       "3  61ad9fc5c0aafa396cd37f0e          nanana  2021-11-20   0.00    neutral   \n",
       "4  61ad9fc5c0aafa396cd37f0f         panjang  2021-11-20  -0.05        neg   \n",
       "\n",
       "  translated  \n",
       "0    weather  \n",
       "1       true  \n",
       "2      diana  \n",
       "3     nanana  \n",
       "4       long  "
      ]
     },
     "execution_count": 22,
     "metadata": {},
     "output_type": "execute_result"
    }
   ],
   "source": [
    "df.head()"
   ]
  },
  {
   "cell_type": "code",
   "execution_count": 23,
   "id": "7df8fca7",
   "metadata": {},
   "outputs": [],
   "source": [
    "df.to_csv(\"tweets_bersih_translated_label_dated.csv\")"
   ]
  },
  {
   "cell_type": "code",
   "execution_count": null,
   "id": "66aaf86c",
   "metadata": {},
   "outputs": [],
   "source": []
  }
 ],
 "metadata": {
  "kernelspec": {
   "display_name": "Python 3 (ipykernel)",
   "language": "python",
   "name": "python3"
  },
  "language_info": {
   "codemirror_mode": {
    "name": "ipython",
    "version": 3
   },
   "file_extension": ".py",
   "mimetype": "text/x-python",
   "name": "python",
   "nbconvert_exporter": "python",
   "pygments_lexer": "ipython3",
   "version": "3.9.2"
  }
 },
 "nbformat": 4,
 "nbformat_minor": 5
}
